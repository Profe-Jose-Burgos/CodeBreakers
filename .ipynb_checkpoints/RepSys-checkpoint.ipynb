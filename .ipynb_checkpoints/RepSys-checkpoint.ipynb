{
 "cells": [
  {
   "cell_type": "code",
   "execution_count": 37,
   "id": "11f40b47",
   "metadata": {},
   "outputs": [],
   "source": [
    "#Librerias \n",
    "import numpy as np\n",
    "import matplotlib.pyplot as plt\n",
    "import matplotlib.image as img\n",
    "import seaborn as sns\n",
    "from datetime import datetime\n",
    "import pandas as pd\n",
    "from collections import Counter "
   ]
  },
  {
   "cell_type": "code",
   "execution_count": 38,
   "id": "9c47d20f",
   "metadata": {},
   "outputs": [
    {
     "name": "stdout",
     "output_type": "stream",
     "text": [
      "01-24-2023_15'29'42\n"
     ]
    }
   ],
   "source": [
    "fecha=datetime.now().strftime(\"%m-%d-%Y_%H'%M'%S\")\n",
    "print(fecha)"
   ]
  },
  {
   "cell_type": "code",
   "execution_count": 39,
   "id": "11b2b774",
   "metadata": {},
   "outputs": [],
   "source": [
    "#funcion para abrir el csv\n",
    "def open_csv(file):\n",
    "    data=pd.read_csv(file)\n",
    "    print(type(data))\n",
    "    return data"
   ]
  },
  {
   "cell_type": "code",
   "execution_count": 40,
   "id": "631bebe3",
   "metadata": {},
   "outputs": [],
   "source": [
    "#funcion de escritura del csv\n",
    "def write_csv(df,name):\n",
    "    fecha=str(datetime.now().strftime(\"%m-%d-%Y\"))\n",
    "    name=name+\"_\"+fecha\n",
    "    name_csv=\"./\"+name+\".csv\"\n",
    "    df.to_csv(name_csv,header=True, index=True)   \n",
    "    print(\"archivo csv guardado\")\n",
    "    return name"
   ]
  },
  {
   "cell_type": "code",
   "execution_count": 41,
   "id": "1856e538",
   "metadata": {},
   "outputs": [],
   "source": [
    "#funcion de escritura del pdf\n",
    "def write_pdf(df,name):\n",
    "    pdf_name=write_csv(df,name)\n",
    "    name_pdf=\"./\"+name_pdf+\".pdf\"\n",
    "    plt.suptitle(\"Gráficas \"+pdf_name, fontsize=14, fontweight='bold')\n",
    "    name_pdf=\"./\"+name+\".pdf\"   \n",
    "    plt.savefig(namepdf,dpi=600, bbox_inches='tight')\n",
    "    print(\"archivo pdf guardado\")"
   ]
  },
  {
   "cell_type": "code",
   "execution_count": 42,
   "id": "fc5c3ab7",
   "metadata": {},
   "outputs": [
    {
     "name": "stdout",
     "output_type": "stream",
     "text": [
      "<class 'pandas.core.frame.DataFrame'>\n",
      "<class 'pandas.core.frame.DataFrame'>\n",
      "RangeIndex: 8999 entries, 0 to 8998\n",
      "Data columns (total 15 columns):\n",
      " #   Column                 Non-Null Count  Dtype  \n",
      "---  ------                 --------------  -----  \n",
      " 0   Year                   8999 non-null   int64  \n",
      " 1   Month                  8999 non-null   int64  \n",
      " 2   DayofMonth             8999 non-null   int64  \n",
      " 3   DayOfWeek              8999 non-null   int64  \n",
      " 4   Actual_Shipment_Time   8842 non-null   float64\n",
      " 5   Planned_Shipment_Time  8999 non-null   int64  \n",
      " 6   Planned_Delivery_Time  8999 non-null   int64  \n",
      " 7   Carrier_Name           8999 non-null   object \n",
      " 8   Carrier_Num            8999 non-null   int64  \n",
      " 9   Planned_TimeofTravel   8999 non-null   int64  \n",
      " 10  Shipment_Delay         8842 non-null   float64\n",
      " 11  Source                 8999 non-null   object \n",
      " 12  Destination            8999 non-null   object \n",
      " 13  Distance               8999 non-null   int64  \n",
      " 14  Delivery_Status        8842 non-null   float64\n",
      "dtypes: float64(3), int64(9), object(3)\n",
      "memory usage: 1.0+ MB\n"
     ]
    },
    {
     "data": {
      "text/html": [
       "<div>\n",
       "<style scoped>\n",
       "    .dataframe tbody tr th:only-of-type {\n",
       "        vertical-align: middle;\n",
       "    }\n",
       "\n",
       "    .dataframe tbody tr th {\n",
       "        vertical-align: top;\n",
       "    }\n",
       "\n",
       "    .dataframe thead th {\n",
       "        text-align: right;\n",
       "    }\n",
       "</style>\n",
       "<table border=\"1\" class=\"dataframe\">\n",
       "  <thead>\n",
       "    <tr style=\"text-align: right;\">\n",
       "      <th></th>\n",
       "      <th>Year</th>\n",
       "      <th>Month</th>\n",
       "      <th>DayofMonth</th>\n",
       "      <th>DayOfWeek</th>\n",
       "      <th>Actual_Shipment_Time</th>\n",
       "      <th>Planned_Shipment_Time</th>\n",
       "      <th>Planned_Delivery_Time</th>\n",
       "      <th>Carrier_Name</th>\n",
       "      <th>Carrier_Num</th>\n",
       "      <th>Planned_TimeofTravel</th>\n",
       "      <th>Shipment_Delay</th>\n",
       "      <th>Source</th>\n",
       "      <th>Destination</th>\n",
       "      <th>Distance</th>\n",
       "      <th>Delivery_Status</th>\n",
       "    </tr>\n",
       "  </thead>\n",
       "  <tbody>\n",
       "    <tr>\n",
       "      <th>0</th>\n",
       "      <td>2020</td>\n",
       "      <td>1</td>\n",
       "      <td>3</td>\n",
       "      <td>4</td>\n",
       "      <td>2003.0</td>\n",
       "      <td>1955</td>\n",
       "      <td>2225</td>\n",
       "      <td>WN</td>\n",
       "      <td>335</td>\n",
       "      <td>150</td>\n",
       "      <td>8.0</td>\n",
       "      <td>IAD</td>\n",
       "      <td>TPA</td>\n",
       "      <td>810</td>\n",
       "      <td>0.0</td>\n",
       "    </tr>\n",
       "    <tr>\n",
       "      <th>1</th>\n",
       "      <td>2020</td>\n",
       "      <td>1</td>\n",
       "      <td>3</td>\n",
       "      <td>4</td>\n",
       "      <td>754.0</td>\n",
       "      <td>735</td>\n",
       "      <td>1000</td>\n",
       "      <td>WN</td>\n",
       "      <td>3231</td>\n",
       "      <td>145</td>\n",
       "      <td>19.0</td>\n",
       "      <td>IAD</td>\n",
       "      <td>TPA</td>\n",
       "      <td>810</td>\n",
       "      <td>1.0</td>\n",
       "    </tr>\n",
       "    <tr>\n",
       "      <th>2</th>\n",
       "      <td>2020</td>\n",
       "      <td>1</td>\n",
       "      <td>3</td>\n",
       "      <td>4</td>\n",
       "      <td>628.0</td>\n",
       "      <td>620</td>\n",
       "      <td>750</td>\n",
       "      <td>WN</td>\n",
       "      <td>448</td>\n",
       "      <td>90</td>\n",
       "      <td>8.0</td>\n",
       "      <td>IND</td>\n",
       "      <td>BWI</td>\n",
       "      <td>515</td>\n",
       "      <td>0.0</td>\n",
       "    </tr>\n",
       "    <tr>\n",
       "      <th>3</th>\n",
       "      <td>2020</td>\n",
       "      <td>1</td>\n",
       "      <td>3</td>\n",
       "      <td>4</td>\n",
       "      <td>926.0</td>\n",
       "      <td>930</td>\n",
       "      <td>1100</td>\n",
       "      <td>WN</td>\n",
       "      <td>1746</td>\n",
       "      <td>90</td>\n",
       "      <td>-4.0</td>\n",
       "      <td>IND</td>\n",
       "      <td>BWI</td>\n",
       "      <td>515</td>\n",
       "      <td>0.0</td>\n",
       "    </tr>\n",
       "    <tr>\n",
       "      <th>4</th>\n",
       "      <td>2020</td>\n",
       "      <td>1</td>\n",
       "      <td>3</td>\n",
       "      <td>4</td>\n",
       "      <td>1829.0</td>\n",
       "      <td>1755</td>\n",
       "      <td>1925</td>\n",
       "      <td>WN</td>\n",
       "      <td>3920</td>\n",
       "      <td>90</td>\n",
       "      <td>34.0</td>\n",
       "      <td>IND</td>\n",
       "      <td>BWI</td>\n",
       "      <td>515</td>\n",
       "      <td>1.0</td>\n",
       "    </tr>\n",
       "    <tr>\n",
       "      <th>...</th>\n",
       "      <td>...</td>\n",
       "      <td>...</td>\n",
       "      <td>...</td>\n",
       "      <td>...</td>\n",
       "      <td>...</td>\n",
       "      <td>...</td>\n",
       "      <td>...</td>\n",
       "      <td>...</td>\n",
       "      <td>...</td>\n",
       "      <td>...</td>\n",
       "      <td>...</td>\n",
       "      <td>...</td>\n",
       "      <td>...</td>\n",
       "      <td>...</td>\n",
       "      <td>...</td>\n",
       "    </tr>\n",
       "    <tr>\n",
       "      <th>8994</th>\n",
       "      <td>2020</td>\n",
       "      <td>1</td>\n",
       "      <td>6</td>\n",
       "      <td>7</td>\n",
       "      <td>1928.0</td>\n",
       "      <td>1920</td>\n",
       "      <td>2020</td>\n",
       "      <td>WN</td>\n",
       "      <td>2611</td>\n",
       "      <td>120</td>\n",
       "      <td>8.0</td>\n",
       "      <td>BWI</td>\n",
       "      <td>BNA</td>\n",
       "      <td>588</td>\n",
       "      <td>0.0</td>\n",
       "    </tr>\n",
       "    <tr>\n",
       "      <th>8995</th>\n",
       "      <td>2020</td>\n",
       "      <td>1</td>\n",
       "      <td>6</td>\n",
       "      <td>7</td>\n",
       "      <td>927.0</td>\n",
       "      <td>925</td>\n",
       "      <td>1030</td>\n",
       "      <td>WN</td>\n",
       "      <td>127</td>\n",
       "      <td>65</td>\n",
       "      <td>2.0</td>\n",
       "      <td>BWI</td>\n",
       "      <td>BUF</td>\n",
       "      <td>281</td>\n",
       "      <td>0.0</td>\n",
       "    </tr>\n",
       "    <tr>\n",
       "      <th>8996</th>\n",
       "      <td>2020</td>\n",
       "      <td>1</td>\n",
       "      <td>6</td>\n",
       "      <td>7</td>\n",
       "      <td>1147.0</td>\n",
       "      <td>1145</td>\n",
       "      <td>1250</td>\n",
       "      <td>WN</td>\n",
       "      <td>903</td>\n",
       "      <td>65</td>\n",
       "      <td>2.0</td>\n",
       "      <td>BWI</td>\n",
       "      <td>BUF</td>\n",
       "      <td>281</td>\n",
       "      <td>0.0</td>\n",
       "    </tr>\n",
       "    <tr>\n",
       "      <th>8997</th>\n",
       "      <td>2020</td>\n",
       "      <td>1</td>\n",
       "      <td>6</td>\n",
       "      <td>7</td>\n",
       "      <td>1705.0</td>\n",
       "      <td>1655</td>\n",
       "      <td>1805</td>\n",
       "      <td>WN</td>\n",
       "      <td>1516</td>\n",
       "      <td>70</td>\n",
       "      <td>10.0</td>\n",
       "      <td>BWI</td>\n",
       "      <td>BUF</td>\n",
       "      <td>281</td>\n",
       "      <td>0.0</td>\n",
       "    </tr>\n",
       "    <tr>\n",
       "      <th>8998</th>\n",
       "      <td>2020</td>\n",
       "      <td>1</td>\n",
       "      <td>6</td>\n",
       "      <td>7</td>\n",
       "      <td>2134.0</td>\n",
       "      <td>2115</td>\n",
       "      <td>2220</td>\n",
       "      <td>WN</td>\n",
       "      <td>1830</td>\n",
       "      <td>65</td>\n",
       "      <td>19.0</td>\n",
       "      <td>BWI</td>\n",
       "      <td>BUF</td>\n",
       "      <td>281</td>\n",
       "      <td>1.0</td>\n",
       "    </tr>\n",
       "  </tbody>\n",
       "</table>\n",
       "<p>8999 rows × 15 columns</p>\n",
       "</div>"
      ],
      "text/plain": [
       "      Year  Month  DayofMonth  DayOfWeek  Actual_Shipment_Time  \\\n",
       "0     2020      1           3          4                2003.0   \n",
       "1     2020      1           3          4                 754.0   \n",
       "2     2020      1           3          4                 628.0   \n",
       "3     2020      1           3          4                 926.0   \n",
       "4     2020      1           3          4                1829.0   \n",
       "...    ...    ...         ...        ...                   ...   \n",
       "8994  2020      1           6          7                1928.0   \n",
       "8995  2020      1           6          7                 927.0   \n",
       "8996  2020      1           6          7                1147.0   \n",
       "8997  2020      1           6          7                1705.0   \n",
       "8998  2020      1           6          7                2134.0   \n",
       "\n",
       "      Planned_Shipment_Time  Planned_Delivery_Time Carrier_Name  Carrier_Num  \\\n",
       "0                      1955                   2225           WN          335   \n",
       "1                       735                   1000           WN         3231   \n",
       "2                       620                    750           WN          448   \n",
       "3                       930                   1100           WN         1746   \n",
       "4                      1755                   1925           WN         3920   \n",
       "...                     ...                    ...          ...          ...   \n",
       "8994                   1920                   2020           WN         2611   \n",
       "8995                    925                   1030           WN          127   \n",
       "8996                   1145                   1250           WN          903   \n",
       "8997                   1655                   1805           WN         1516   \n",
       "8998                   2115                   2220           WN         1830   \n",
       "\n",
       "      Planned_TimeofTravel  Shipment_Delay Source Destination  Distance  \\\n",
       "0                      150             8.0    IAD         TPA       810   \n",
       "1                      145            19.0    IAD         TPA       810   \n",
       "2                       90             8.0    IND         BWI       515   \n",
       "3                       90            -4.0    IND         BWI       515   \n",
       "4                       90            34.0    IND         BWI       515   \n",
       "...                    ...             ...    ...         ...       ...   \n",
       "8994                   120             8.0    BWI         BNA       588   \n",
       "8995                    65             2.0    BWI         BUF       281   \n",
       "8996                    65             2.0    BWI         BUF       281   \n",
       "8997                    70            10.0    BWI         BUF       281   \n",
       "8998                    65            19.0    BWI         BUF       281   \n",
       "\n",
       "      Delivery_Status  \n",
       "0                 0.0  \n",
       "1                 1.0  \n",
       "2                 0.0  \n",
       "3                 0.0  \n",
       "4                 1.0  \n",
       "...               ...  \n",
       "8994              0.0  \n",
       "8995              0.0  \n",
       "8996              0.0  \n",
       "8997              0.0  \n",
       "8998              1.0  \n",
       "\n",
       "[8999 rows x 15 columns]"
      ]
     },
     "execution_count": 42,
     "metadata": {},
     "output_type": "execute_result"
    }
   ],
   "source": [
    "#Cargar base de datos de csv\n",
    "file=\"file/delivery_dataset.csv\"\n",
    "dt_report=open_csv(file)\n",
    "dt_report.info()\n",
    "dt_report"
   ]
  },
  {
   "cell_type": "code",
   "execution_count": 43,
   "id": "6376dc5b",
   "metadata": {},
   "outputs": [
    {
     "data": {
      "text/plain": [
       "(8999, 15)"
      ]
     },
     "execution_count": 43,
     "metadata": {},
     "output_type": "execute_result"
    }
   ],
   "source": [
    "dt_report.shape"
   ]
  },
  {
   "cell_type": "code",
   "execution_count": 44,
   "id": "0b671146",
   "metadata": {},
   "outputs": [
    {
     "data": {
      "text/plain": [
       "Year                     8999\n",
       "Month                    8999\n",
       "DayofMonth               8999\n",
       "DayOfWeek                8999\n",
       "Actual_Shipment_Time     8842\n",
       "Planned_Shipment_Time    8999\n",
       "Planned_Delivery_Time    8999\n",
       "Carrier_Name             8999\n",
       "Carrier_Num              8999\n",
       "Planned_TimeofTravel     8999\n",
       "Shipment_Delay           8842\n",
       "Source                   8999\n",
       "Destination              8999\n",
       "Distance                 8999\n",
       "Delivery_Status          8842\n",
       "dtype: int64"
      ]
     },
     "execution_count": 44,
     "metadata": {},
     "output_type": "execute_result"
    }
   ],
   "source": [
    "dt_report.count()"
   ]
  },
  {
   "cell_type": "code",
   "execution_count": 45,
   "id": "9a48f8b1",
   "metadata": {},
   "outputs": [
    {
     "data": {
      "text/plain": [
       "Year                       int64\n",
       "Month                      int64\n",
       "DayofMonth                 int64\n",
       "DayOfWeek                  int64\n",
       "Actual_Shipment_Time     float64\n",
       "Planned_Shipment_Time      int64\n",
       "Planned_Delivery_Time      int64\n",
       "Carrier_Name              object\n",
       "Carrier_Num                int64\n",
       "Planned_TimeofTravel       int64\n",
       "Shipment_Delay           float64\n",
       "Source                    object\n",
       "Destination               object\n",
       "Distance                   int64\n",
       "Delivery_Status          float64\n",
       "dtype: object"
      ]
     },
     "execution_count": 45,
     "metadata": {},
     "output_type": "execute_result"
    }
   ],
   "source": [
    "dt_report.dtypes"
   ]
  },
  {
   "cell_type": "code",
   "execution_count": 46,
   "id": "cf9b7136",
   "metadata": {},
   "outputs": [
    {
     "data": {
      "text/plain": [
       "Index(['Year', 'Month', 'DayofMonth', 'DayOfWeek', 'Actual_Shipment_Time',\n",
       "       'Planned_Shipment_Time', 'Planned_Delivery_Time', 'Carrier_Name',\n",
       "       'Carrier_Num', 'Planned_TimeofTravel', 'Shipment_Delay', 'Source',\n",
       "       'Destination', 'Distance', 'Delivery_Status'],\n",
       "      dtype='object')"
      ]
     },
     "execution_count": 46,
     "metadata": {},
     "output_type": "execute_result"
    }
   ],
   "source": [
    "dt_report.columns"
   ]
  },
  {
   "cell_type": "code",
   "execution_count": 47,
   "id": "6bc6da0e",
   "metadata": {},
   "outputs": [
    {
     "data": {
      "text/plain": [
       "Year                       0\n",
       "Month                      0\n",
       "DayofMonth                 0\n",
       "DayOfWeek                  0\n",
       "Actual_Shipment_Time     157\n",
       "Planned_Shipment_Time      0\n",
       "Planned_Delivery_Time      0\n",
       "Carrier_Name               0\n",
       "Carrier_Num                0\n",
       "Planned_TimeofTravel       0\n",
       "Shipment_Delay           157\n",
       "Source                     0\n",
       "Destination                0\n",
       "Distance                   0\n",
       "Delivery_Status          157\n",
       "dtype: int64"
      ]
     },
     "execution_count": 47,
     "metadata": {},
     "output_type": "execute_result"
    }
   ],
   "source": [
    "dt_report.isnull().sum()"
   ]
  },
  {
   "cell_type": "code",
   "execution_count": 48,
   "id": "cddcbb01",
   "metadata": {},
   "outputs": [],
   "source": [
    "dt_report=dt_report.dropna() "
   ]
  },
  {
   "cell_type": "code",
   "execution_count": 49,
   "id": "66d709d3",
   "metadata": {},
   "outputs": [
    {
     "data": {
      "text/plain": [
       "Year                     0\n",
       "Month                    0\n",
       "DayofMonth               0\n",
       "DayOfWeek                0\n",
       "Actual_Shipment_Time     0\n",
       "Planned_Shipment_Time    0\n",
       "Planned_Delivery_Time    0\n",
       "Carrier_Name             0\n",
       "Carrier_Num              0\n",
       "Planned_TimeofTravel     0\n",
       "Shipment_Delay           0\n",
       "Source                   0\n",
       "Destination              0\n",
       "Distance                 0\n",
       "Delivery_Status          0\n",
       "dtype: int64"
      ]
     },
     "execution_count": 49,
     "metadata": {},
     "output_type": "execute_result"
    }
   ],
   "source": [
    "dt_report.isnull().sum()"
   ]
  },
  {
   "cell_type": "code",
   "execution_count": 50,
   "id": "2be73753",
   "metadata": {},
   "outputs": [
    {
     "data": {
      "text/html": [
       "<div>\n",
       "<style scoped>\n",
       "    .dataframe tbody tr th:only-of-type {\n",
       "        vertical-align: middle;\n",
       "    }\n",
       "\n",
       "    .dataframe tbody tr th {\n",
       "        vertical-align: top;\n",
       "    }\n",
       "\n",
       "    .dataframe thead th {\n",
       "        text-align: right;\n",
       "    }\n",
       "</style>\n",
       "<table border=\"1\" class=\"dataframe\">\n",
       "  <thead>\n",
       "    <tr style=\"text-align: right;\">\n",
       "      <th></th>\n",
       "      <th>Year</th>\n",
       "      <th>Month</th>\n",
       "      <th>DayofMonth</th>\n",
       "      <th>DayOfWeek</th>\n",
       "      <th>Actual_Shipment_Time</th>\n",
       "      <th>Planned_Shipment_Time</th>\n",
       "      <th>Planned_Delivery_Time</th>\n",
       "      <th>Carrier_Name</th>\n",
       "      <th>Carrier_Num</th>\n",
       "      <th>Planned_TimeofTravel</th>\n",
       "      <th>Shipment_Delay</th>\n",
       "      <th>Source</th>\n",
       "      <th>Destination</th>\n",
       "      <th>Distance</th>\n",
       "      <th>Delivery_Status</th>\n",
       "    </tr>\n",
       "  </thead>\n",
       "  <tbody>\n",
       "    <tr>\n",
       "      <th>0</th>\n",
       "      <td>2020</td>\n",
       "      <td>1</td>\n",
       "      <td>3</td>\n",
       "      <td>4</td>\n",
       "      <td>2003.0</td>\n",
       "      <td>1955</td>\n",
       "      <td>2225</td>\n",
       "      <td>WN</td>\n",
       "      <td>335</td>\n",
       "      <td>150</td>\n",
       "      <td>8.0</td>\n",
       "      <td>IAD</td>\n",
       "      <td>TPA</td>\n",
       "      <td>810</td>\n",
       "      <td>0.0</td>\n",
       "    </tr>\n",
       "    <tr>\n",
       "      <th>1</th>\n",
       "      <td>2020</td>\n",
       "      <td>1</td>\n",
       "      <td>3</td>\n",
       "      <td>4</td>\n",
       "      <td>754.0</td>\n",
       "      <td>735</td>\n",
       "      <td>1000</td>\n",
       "      <td>WN</td>\n",
       "      <td>3231</td>\n",
       "      <td>145</td>\n",
       "      <td>19.0</td>\n",
       "      <td>IAD</td>\n",
       "      <td>TPA</td>\n",
       "      <td>810</td>\n",
       "      <td>1.0</td>\n",
       "    </tr>\n",
       "    <tr>\n",
       "      <th>2</th>\n",
       "      <td>2020</td>\n",
       "      <td>1</td>\n",
       "      <td>3</td>\n",
       "      <td>4</td>\n",
       "      <td>628.0</td>\n",
       "      <td>620</td>\n",
       "      <td>750</td>\n",
       "      <td>WN</td>\n",
       "      <td>448</td>\n",
       "      <td>90</td>\n",
       "      <td>8.0</td>\n",
       "      <td>IND</td>\n",
       "      <td>BWI</td>\n",
       "      <td>515</td>\n",
       "      <td>0.0</td>\n",
       "    </tr>\n",
       "    <tr>\n",
       "      <th>3</th>\n",
       "      <td>2020</td>\n",
       "      <td>1</td>\n",
       "      <td>3</td>\n",
       "      <td>4</td>\n",
       "      <td>926.0</td>\n",
       "      <td>930</td>\n",
       "      <td>1100</td>\n",
       "      <td>WN</td>\n",
       "      <td>1746</td>\n",
       "      <td>90</td>\n",
       "      <td>-4.0</td>\n",
       "      <td>IND</td>\n",
       "      <td>BWI</td>\n",
       "      <td>515</td>\n",
       "      <td>0.0</td>\n",
       "    </tr>\n",
       "    <tr>\n",
       "      <th>4</th>\n",
       "      <td>2020</td>\n",
       "      <td>1</td>\n",
       "      <td>3</td>\n",
       "      <td>4</td>\n",
       "      <td>1829.0</td>\n",
       "      <td>1755</td>\n",
       "      <td>1925</td>\n",
       "      <td>WN</td>\n",
       "      <td>3920</td>\n",
       "      <td>90</td>\n",
       "      <td>34.0</td>\n",
       "      <td>IND</td>\n",
       "      <td>BWI</td>\n",
       "      <td>515</td>\n",
       "      <td>1.0</td>\n",
       "    </tr>\n",
       "  </tbody>\n",
       "</table>\n",
       "</div>"
      ],
      "text/plain": [
       "   Year  Month  DayofMonth  DayOfWeek  Actual_Shipment_Time  \\\n",
       "0  2020      1           3          4                2003.0   \n",
       "1  2020      1           3          4                 754.0   \n",
       "2  2020      1           3          4                 628.0   \n",
       "3  2020      1           3          4                 926.0   \n",
       "4  2020      1           3          4                1829.0   \n",
       "\n",
       "   Planned_Shipment_Time  Planned_Delivery_Time Carrier_Name  Carrier_Num  \\\n",
       "0                   1955                   2225           WN          335   \n",
       "1                    735                   1000           WN         3231   \n",
       "2                    620                    750           WN          448   \n",
       "3                    930                   1100           WN         1746   \n",
       "4                   1755                   1925           WN         3920   \n",
       "\n",
       "   Planned_TimeofTravel  Shipment_Delay Source Destination  Distance  \\\n",
       "0                   150             8.0    IAD         TPA       810   \n",
       "1                   145            19.0    IAD         TPA       810   \n",
       "2                    90             8.0    IND         BWI       515   \n",
       "3                    90            -4.0    IND         BWI       515   \n",
       "4                    90            34.0    IND         BWI       515   \n",
       "\n",
       "   Delivery_Status  \n",
       "0              0.0  \n",
       "1              1.0  \n",
       "2              0.0  \n",
       "3              0.0  \n",
       "4              1.0  "
      ]
     },
     "execution_count": 50,
     "metadata": {},
     "output_type": "execute_result"
    }
   ],
   "source": [
    "dt_report.head() "
   ]
  },
  {
   "cell_type": "code",
   "execution_count": 86,
   "id": "31deaa8b",
   "metadata": {},
   "outputs": [
    {
     "name": "stderr",
     "output_type": "stream",
     "text": [
      "C:\\Users\\PC\\AppData\\Local\\Temp/ipykernel_20848/2888961817.py:4: UserWarning: To output multiple subplots, the figure containing the passed axes is being cleared\n",
      "  dt_report.hist(ax=ax)\n"
     ]
    },
    {
     "data": {
      "image/png": "[encoded data removed]",
      "text/plain": [
       "<Figure size 1080x1440 with 12 Axes>"
      ]
     },
     "metadata": {
      "needs_background": "light"
     },
     "output_type": "display_data"
    }
   ],
   "source": [
    "#Plot con resumen del reporte mensual (Categorias entre cantidad de unidades enviadas)\n",
    "fig=plt.figure(figsize=(15,20))\n",
    "ax=fig.gca()\n",
    "dt_report.hist(ax=ax)\n",
    "plt.suptitle(\"Resumen del reporte mensual por categorias\",position=(0.5, 0.91),\n",
    "          fontdict={'family': 'Arial', \n",
    "                    'color' : 'darkblue',\n",
    "                    'weight': 'bold',\n",
    "                    'size': 25},fontsize=20)\n",
    "#fig.suptitle(' Set a Single Main Title for All the Subplots ', fontsize=30)\n",
    "plt.show()"
   ]
  },
  {
   "cell_type": "code",
   "execution_count": 107,
   "id": "f9b6f1ca",
   "metadata": {},
   "outputs": [
    {
     "data": {
      "text/plain": [
       "Text(0.5, 0.93, 'Grafica que muestra el Dia que mas hubo envios')"
      ]
     },
     "execution_count": 107,
     "metadata": {},
     "output_type": "execute_result"
    },
    {
     "data": {
      "text/plain": [
       "<Figure size 576x864 with 0 Axes>"
      ]
     },
     "metadata": {},
     "output_type": "display_data"
    },
    {
     "data": {
      "image/png": "[encoded data removed]",
      "text/plain": [
       "<Figure size 1440x720 with 1 Axes>"
      ]
     },
     "metadata": {
      "needs_background": "light"
     },
     "output_type": "display_data"
    }
   ],
   "source": [
    "# Grafica que muestra la cantidad de paquetes enviados y no en el registro de un mes\n",
    "fig= plt.figure(figsize=(8,12))\n",
    "pd.crosstab(dt_report['Month'],dt_report['Delivery_Status']).plot(kind='bar',figsize=(20,10))\n",
    "plt.suptitle(\"Grafica que muestra la cantidad de paquetes enviados y no en el registro de un mes\",position=(0.5, 0.93),\n",
    "          fontdict={'family': 'Arial', \n",
    "                    'color' : 'darkblue',\n",
    "                    'weight': 'bold',\n",
    "                    'size': 25},fontsize=20)"
   ]
  },
  {
   "cell_type": "code",
   "execution_count": 98,
   "id": "2e0177ae",
   "metadata": {},
   "outputs": [
    {
     "data": {
      "text/plain": [
       "<AxesSubplot:ylabel='DayOfWeek'>"
      ]
     },
     "execution_count": 98,
     "metadata": {},
     "output_type": "execute_result"
    },
    {
     "data": {
      "image/png": "[encoded data removed]",
      "text/plain": [
       "<Figure size 576x576 with 1 Axes>"
      ]
     },
     "metadata": {},
     "output_type": "display_data"
    }
   ],
   "source": [
    "#Grafica que muestra el Dia que mas hubo envios\n",
    "fig= plt.figure(figsize=(8,8))\n",
    "fig = dt_report.DayOfWeek.value_counts()\n",
    "plt.suptitle(\"Grafica que muestra el Dia que mas hubo envios\",position=(0.5, 0.9),\n",
    "          fontdict={'family': 'Arial', \n",
    "                    'color' : 'darkblue',\n",
    "                    'weight': 'bold',\n",
    "                    'size': 25},fontsize=20)\n",
    "fig.plot.pie()"
   ]
  },
  {
   "cell_type": "code",
   "execution_count": 87,
   "id": "a66ff00e",
   "metadata": {},
   "outputs": [
    {
     "data": {
      "text/plain": [
       "<AxesSubplot:xlabel='Shipment_Delay', ylabel='DayOfWeek'>"
      ]
     },
     "execution_count": 87,
     "metadata": {},
     "output_type": "execute_result"
    },
    {
     "data": {
      "image/png": "[encoded data removed]",
      "text/plain": [
       "<Figure size 432x288 with 1 Axes>"
      ]
     },
     "metadata": {
      "needs_background": "light"
     },
     "output_type": "display_data"
    }
   ],
   "source": [
    "#Grafica que muestra el Dia que mas hubo retraso de entregas de paquetes\n",
    "dt_report.plot.scatter(y=\"DayOfWeek\", x=\"Shipment_Delay\")\n"
   ]
  },
  {
   "cell_type": "code",
   "execution_count": null,
   "id": "49a18d03",
   "metadata": {},
   "outputs": [],
   "source": []
  }
 ],
 "metadata": {
  "kernelspec": {
   "display_name": "Python 3 (ipykernel)",
   "language": "python",
   "name": "python3"
  },
  "language_info": {
   "codemirror_mode": {
    "name": "ipython",
    "version": 3
   },
   "file_extension": ".py",
   "mimetype": "text/x-python",
   "name": "python",
   "nbconvert_exporter": "python",
   "pygments_lexer": "ipython3",
   "version": "3.9.7"
  }
 },
 "nbformat": 4,
 "nbformat_minor": 5
}
